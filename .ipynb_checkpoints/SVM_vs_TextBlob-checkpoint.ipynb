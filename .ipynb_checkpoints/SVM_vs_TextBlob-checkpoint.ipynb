{
 "cells": [
  {
   "cell_type": "code",
   "execution_count": 1,
   "id": "c543158c",
   "metadata": {},
   "outputs": [],
   "source": [
    "from textblob_de import TextBlobDE as TextBlob"
   ]
  },
  {
   "cell_type": "code",
   "execution_count": 26,
   "id": "5b60bb77",
   "metadata": {},
   "outputs": [],
   "source": [
    "text = \"Heute ist der 3. Mai 2014 und Dr. Meier feiert seinen 43. Geburtstag. Verdammte Scheiße! Das ist so blöd. Ich muss unbedingt daran denken, Mehl, usw. für einen Kuchen einzukaufen. Aber leider habe ich nur noch EUR 3.50 in meiner Brieftasche.\"\n",
    "blob = TextBlob(text)"
   ]
  },
  {
   "cell_type": "code",
   "execution_count": 27,
   "id": "8eed2a12",
   "metadata": {},
   "outputs": [
    {
     "data": {
      "text/plain": [
       "[Sentence(\"Heute ist der 3. Mai 2014 und Dr. Meier feiert seinen 43. Geburtstag.\"),\n",
       " Sentence(\"Verdammte Scheiße!\"),\n",
       " Sentence(\"Das ist so blöd.\"),\n",
       " Sentence(\"Ich muss unbedingt daran denken, Mehl, usw. für einen Kuchen einzukaufen.\"),\n",
       " Sentence(\"Aber leider habe ich nur noch EUR 3.50 in meiner Brieftasche.\")]"
      ]
     },
     "execution_count": 27,
     "metadata": {},
     "output_type": "execute_result"
    }
   ],
   "source": [
    "blob.sentences"
   ]
  },
  {
   "cell_type": "code",
   "execution_count": 28,
   "id": "1f1a7b25",
   "metadata": {},
   "outputs": [
    {
     "data": {
      "text/plain": [
       "WordList(['Heute', 'ist', 'der', '3.', 'Mai', '2014', 'und', 'Dr.', 'Meier', 'feiert', 'seinen', '43.', 'Geburtstag', '.', 'Verdammte', 'Scheiße', '!', 'Das', 'ist', 'so', 'blöd', '.', 'Ich', 'muss', 'unbedingt', 'daran', 'denken', ',', 'Mehl', ',', 'usw.', 'für', 'einen', 'Kuchen', 'einzukaufen', '.', 'Aber', 'leider', 'habe', 'ich', 'nur', 'noch', 'EUR', '3.50', 'in', 'meiner', 'Brieftasche', '.'])"
      ]
     },
     "execution_count": 28,
     "metadata": {},
     "output_type": "execute_result"
    }
   ],
   "source": [
    "blob.tokens"
   ]
  },
  {
   "cell_type": "code",
   "execution_count": 29,
   "id": "5e27a49e",
   "metadata": {},
   "outputs": [
    {
     "data": {
      "text/plain": [
       "Sentiment(polarity=-0.2, subjectivity=0.0)"
      ]
     },
     "execution_count": 29,
     "metadata": {},
     "output_type": "execute_result"
    }
   ],
   "source": [
    "TextBlob(text).sentiment"
   ]
  },
  {
   "cell_type": "code",
   "execution_count": 19,
   "id": "f0a5b9cd",
   "metadata": {},
   "outputs": [],
   "source": [
    "import pandas as pd"
   ]
  },
  {
   "cell_type": "code",
   "execution_count": 34,
   "id": "31c6e0b1",
   "metadata": {},
   "outputs": [
    {
     "data": {
      "text/html": [
       "<div>\n",
       "<style scoped>\n",
       "    .dataframe tbody tr th:only-of-type {\n",
       "        vertical-align: middle;\n",
       "    }\n",
       "\n",
       "    .dataframe tbody tr th {\n",
       "        vertical-align: top;\n",
       "    }\n",
       "\n",
       "    .dataframe thead th {\n",
       "        text-align: right;\n",
       "    }\n",
       "</style>\n",
       "<table border=\"1\" class=\"dataframe\">\n",
       "  <thead>\n",
       "    <tr style=\"text-align: right;\">\n",
       "      <th></th>\n",
       "      <th>comments</th>\n",
       "      <th>clean_comments</th>\n",
       "      <th>prediction</th>\n",
       "    </tr>\n",
       "  </thead>\n",
       "  <tbody>\n",
       "    <tr>\n",
       "      <th>0</th>\n",
       "      <td>Ihr wollt gewinnen? Dann wartet nicht länger a...</td>\n",
       "      <td>wollt gewinn ? wartet nicht lang ab ! holt muh...</td>\n",
       "      <td>1</td>\n",
       "    </tr>\n",
       "    <tr>\n",
       "      <th>1</th>\n",
       "      <td>Und wenn man kein tiktok hat?</td>\n",
       "      <td>tiktok ?</td>\n",
       "      <td>1</td>\n",
       "    </tr>\n",
       "    <tr>\n",
       "      <th>2</th>\n",
       "      <td>Wie geil</td>\n",
       "      <td>geil</td>\n",
       "      <td>1</td>\n",
       "    </tr>\n",
       "    <tr>\n",
       "      <th>3</th>\n",
       "      <td>Wie macht ihr das eigentlich?  Wie wir uns als...</td>\n",
       "      <td>macht eigent ? traditionell wurstherstell nach...</td>\n",
       "      <td>1</td>\n",
       "    </tr>\n",
       "    <tr>\n",
       "      <th>4</th>\n",
       "      <td>Dann mal weg mit dem Fleisch</td>\n",
       "      <td>fleisch</td>\n",
       "      <td>1</td>\n",
       "    </tr>\n",
       "    <tr>\n",
       "      <th>...</th>\n",
       "      <td>...</td>\n",
       "      <td>...</td>\n",
       "      <td>...</td>\n",
       "    </tr>\n",
       "    <tr>\n",
       "      <th>8891</th>\n",
       "      <td>So muss leckeres Frühstück aussehen :-) #Schin...</td>\n",
       "      <td>leck fruhstuck ausseh : - ) # schinkenspick # ...</td>\n",
       "      <td>1</td>\n",
       "    </tr>\n",
       "    <tr>\n",
       "      <th>8892</th>\n",
       "      <td>Legga 288 Wo.Antworten</td>\n",
       "      <td>legga 288 wo.antwort</td>\n",
       "      <td>1</td>\n",
       "    </tr>\n",
       "    <tr>\n",
       "      <th>8893</th>\n",
       "      <td>Mai 2013: Die Mühle wurde eröffnet! :-) #Mühle...</td>\n",
       "      <td>2013 : muhl wurd eroffnet ! : - ) # muhl # wah...</td>\n",
       "      <td>1</td>\n",
       "    </tr>\n",
       "    <tr>\n",
       "      <th>8894</th>\n",
       "      <td>War super euer mühlenfest ;) wir waren ja den ...</td>\n",
       "      <td>sup muhlenf ; ) ja samstag</td>\n",
       "      <td>1</td>\n",
       "    </tr>\n",
       "    <tr>\n",
       "      <th>8895</th>\n",
       "      <td>Herzlichen Glückqunsch</td>\n",
       "      <td>herzlich gluckqunsch</td>\n",
       "      <td>1</td>\n",
       "    </tr>\n",
       "  </tbody>\n",
       "</table>\n",
       "<p>8896 rows × 3 columns</p>\n",
       "</div>"
      ],
      "text/plain": [
       "                                               comments  \\\n",
       "0     Ihr wollt gewinnen? Dann wartet nicht länger a...   \n",
       "1                         Und wenn man kein tiktok hat?   \n",
       "2                                              Wie geil   \n",
       "3     Wie macht ihr das eigentlich?  Wie wir uns als...   \n",
       "4                          Dann mal weg mit dem Fleisch   \n",
       "...                                                 ...   \n",
       "8891  So muss leckeres Frühstück aussehen :-) #Schin...   \n",
       "8892                             Legga 288 Wo.Antworten   \n",
       "8893  Mai 2013: Die Mühle wurde eröffnet! :-) #Mühle...   \n",
       "8894  War super euer mühlenfest ;) wir waren ja den ...   \n",
       "8895                            Herzlichen Glückqunsch    \n",
       "\n",
       "                                         clean_comments  prediction  \n",
       "0     wollt gewinn ? wartet nicht lang ab ! holt muh...           1  \n",
       "1                                              tiktok ?           1  \n",
       "2                                                  geil           1  \n",
       "3     macht eigent ? traditionell wurstherstell nach...           1  \n",
       "4                                               fleisch           1  \n",
       "...                                                 ...         ...  \n",
       "8891  leck fruhstuck ausseh : - ) # schinkenspick # ...           1  \n",
       "8892                               legga 288 wo.antwort           1  \n",
       "8893  2013 : muhl wurd eroffnet ! : - ) # muhl # wah...           1  \n",
       "8894                         sup muhlenf ; ) ja samstag           1  \n",
       "8895                               herzlich gluckqunsch           1  \n",
       "\n",
       "[8896 rows x 3 columns]"
      ]
     },
     "execution_count": 34,
     "metadata": {},
     "output_type": "execute_result"
    }
   ],
   "source": [
    "ruegi_comments = pd.read_csv(\"ruegi_comments_new_pipeline.csv\")\n",
    "ruegi_comments = ruegi_comments.drop([\"Unnamed: 0\"], axis=1)\n",
    "fresh_copy = ruegi_comments.copy()\n",
    "fresh_copy[\"comments\"] = fresh_copy[\"comments\"].astype(str)\n",
    "fresh_copy"
   ]
  },
  {
   "cell_type": "code",
   "execution_count": 35,
   "id": "c3b3ebb3",
   "metadata": {},
   "outputs": [],
   "source": [
    "fresh_copy = fresh_copy.assign(blob_prediction = fresh_copy[\"comments\"].apply(lambda row: TextBlob(row).sentiment[0]))"
   ]
  },
  {
   "cell_type": "code",
   "execution_count": 37,
   "id": "c1cb2441",
   "metadata": {},
   "outputs": [],
   "source": [
    "fresh_copy.to_csv(\"ruegie_comments_with_blob_predictions.csv\")"
   ]
  },
  {
   "cell_type": "markdown",
   "id": "772f1653",
   "metadata": {},
   "source": [
    "### Zwischenergebnis\n",
    "\n",
    "TextBlob und SVC entscheiden in vielen Fällen der binären Klassifizierung ähnlich, wenn man alle Werte > 0 als positiv und alle Werte < 0 als negativ wertet. Die genauere Einschätzung von TextBlob mit einer Spanne von -1 bis 1 (genannt \"Polarität\") ist nur in wenigen Fällen mit dem vorliegenden Datensatz akkurat, jedoch zeigen sich zu diesem Zeitpunkt an bestimmten Stellen Vorteile gegenüber des rein binären SVC:\n",
    "\n",
    "In Reihe 67 von fresh_copy lautet der Kommentar \"Lächerlich\". Auch für binäre Modelle eine eigentlich eindeutig negative Wertung. Das SVC kategorisiert dieses Wort jedoch in \"positiv == 1\". Wie ist das zu erklären? Im Text-Preprocessing wurden einzelne Wörter mithilfe eines Stemmers verkürzt. Das heißt, wiederkehrende Wortendungen wurden abgeschnitten, um die Vergleichbarkeit verschiedener Sätze zu erhöhen. Außerdem wurden die deutschen Umlaute in die ihnen zugrundeliegenden Vokale umgewandelt. Im Endergebnis wird also \"Lächerlich\" zu \"Lach -er -lich\" und schließlich zu \"Lach\". Zwar wird die erste Person Präsens von \"lachen\" häufig in einem ironischen Kontext gebraucht. Genauso würde jedoch \"lachen\" selbst in jedem einzelnen Fall zu \"lach -en\" und zu \"lach\" werden, vermutlich eingesetzt in einem mehrheitlich positiven Kontext. So kommt es in diesem Fall zu einer gravierenden Fehleinschätzung der Support-Vector-Machine.\n",
    "TextBlob hingegen erkennt mit einer Polarität von -1 sicher den negativen Charakter des Ausdrucks.\n",
    "An diesem Beispiel zeigen sich die vielen Fallstricke vermeintlich simpler Klassifizierungsmodelle. Eine Lemmatisierung der einzelnen Wörter eines Satzes führt in solchen Fällen zu besseren Ergebnissen, da die Satzbausteine lediglich in ihre Grundform zurückgeführt werden. \"Ich lache\" würde also in mehreren Schritten zu \"\\[ich\\], \\[lachen\\]\" oder \"Das ist lächerlich\" zu \"\\[das\\], \\[sein\\], \\[lächerlich\\]\". Es zeigt sich allerdings, dass die Lemmatisierung (welche vermutlich von TextBlob eingesetzt wird) in anderen Fällen zu deutlich schlechterer Vergleichbarkeit eigentlich ähnlicher Aussagen führt und die Komplexität des Vokabulars der Klassifizierungsmodelle erhöht."
   ]
  },
  {
   "cell_type": "code",
   "execution_count": null,
   "id": "257eda72",
   "metadata": {},
   "outputs": [],
   "source": []
  }
 ],
 "metadata": {
  "kernelspec": {
   "display_name": "Python 3 (ipykernel)",
   "language": "python",
   "name": "python3"
  },
  "language_info": {
   "codemirror_mode": {
    "name": "ipython",
    "version": 3
   },
   "file_extension": ".py",
   "mimetype": "text/x-python",
   "name": "python",
   "nbconvert_exporter": "python",
   "pygments_lexer": "ipython3",
   "version": "3.8.10"
  }
 },
 "nbformat": 4,
 "nbformat_minor": 5
}
