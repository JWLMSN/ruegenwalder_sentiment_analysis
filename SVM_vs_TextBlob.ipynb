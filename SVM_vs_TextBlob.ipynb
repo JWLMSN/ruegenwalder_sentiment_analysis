{
 "cells": [
  {
   "cell_type": "code",
   "execution_count": 9,
   "id": "c543158c",
   "metadata": {},
   "outputs": [],
   "source": [
    "from textblob_de import TextBlobDE as TextBlob"
   ]
  },
  {
   "cell_type": "code",
   "execution_count": 10,
   "id": "5b60bb77",
   "metadata": {},
   "outputs": [],
   "source": [
    "text = \"Heute ist der 3. Mai 2014 und Dr. Meier feiert seinen 43. Geburtstag. Verdammte Scheiße! Das ist so blöd. Ich muss unbedingt daran denken, Mehl, usw. für einen Kuchen einzukaufen. Aber leider habe ich nur noch EUR 3.50 in meiner Brieftasche.\"\n",
    "blob = TextBlob(text)"
   ]
  },
  {
   "cell_type": "code",
   "execution_count": 11,
   "id": "8eed2a12",
   "metadata": {},
   "outputs": [
    {
     "data": {
      "text/plain": [
       "[Sentence(\"Heute ist der 3. Mai 2014 und Dr. Meier feiert seinen 43. Geburtstag.\"),\n",
       " Sentence(\"Verdammte Scheiße!\"),\n",
       " Sentence(\"Das ist so blöd.\"),\n",
       " Sentence(\"Ich muss unbedingt daran denken, Mehl, usw. für einen Kuchen einzukaufen.\"),\n",
       " Sentence(\"Aber leider habe ich nur noch EUR 3.50 in meiner Brieftasche.\")]"
      ]
     },
     "execution_count": 11,
     "metadata": {},
     "output_type": "execute_result"
    }
   ],
   "source": [
    "blob.sentences"
   ]
  },
  {
   "cell_type": "code",
   "execution_count": 12,
   "id": "1f1a7b25",
   "metadata": {},
   "outputs": [
    {
     "data": {
      "text/plain": [
       "WordList(['Heute', 'ist', 'der', '3.', 'Mai', '2014', 'und', 'Dr.', 'Meier', 'feiert', 'seinen', '43.', 'Geburtstag', '.', 'Verdammte', 'Scheiße', '!', 'Das', 'ist', 'so', 'blöd', '.', 'Ich', 'muss', 'unbedingt', 'daran', 'denken', ',', 'Mehl', ',', 'usw.', 'für', 'einen', 'Kuchen', 'einzukaufen', '.', 'Aber', 'leider', 'habe', 'ich', 'nur', 'noch', 'EUR', '3.50', 'in', 'meiner', 'Brieftasche', '.'])"
      ]
     },
     "execution_count": 12,
     "metadata": {},
     "output_type": "execute_result"
    }
   ],
   "source": [
    "blob.tokens"
   ]
  },
  {
   "cell_type": "code",
   "execution_count": 13,
   "id": "5e27a49e",
   "metadata": {},
   "outputs": [
    {
     "data": {
      "text/plain": [
       "Sentiment(polarity=-0.2, subjectivity=0.0)"
      ]
     },
     "execution_count": 13,
     "metadata": {},
     "output_type": "execute_result"
    }
   ],
   "source": [
    "TextBlob(text).sentiment"
   ]
  },
  {
   "cell_type": "code",
   "execution_count": 14,
   "id": "f0a5b9cd",
   "metadata": {},
   "outputs": [],
   "source": [
    "import pandas as pd"
   ]
  },
  {
   "cell_type": "code",
   "execution_count": 15,
   "id": "31c6e0b1",
   "metadata": {},
   "outputs": [],
   "source": [
    "ruegi_comments = pd.read_csv(\"ruegi_comments_new_pipeline_STEMMED_VERSION.csv\")\n",
    "ruegi_comments = ruegi_comments.drop([\"Unnamed: 0\"], axis=1)\n",
    "fresh_copy = ruegi_comments.copy()\n",
    "fresh_copy[\"comments\"] = fresh_copy[\"comments\"].astype(str)\n",
    "fresh_copy\n",
    "\n",
    "fresh_copy = fresh_copy.assign(blob_prediction = fresh_copy[\"comments\"].apply(lambda row: TextBlob(row).sentiment[0]))"
   ]
  },
  {
   "cell_type": "code",
   "execution_count": 16,
   "id": "c1cb2441",
   "metadata": {},
   "outputs": [],
   "source": [
    "fresh_copy.to_csv(\"ruegie_comments_with_blob_predictions_STEMMED_VERSION.csv\")"
   ]
  },
  {
   "cell_type": "markdown",
   "id": "772f1653",
   "metadata": {},
   "source": [
    "### Zwischenergebnis\n",
    "\n",
    "TextBlob und SVC entscheiden in vielen Fällen der binären Klassifizierung ähnlich, wenn man alle Werte > 0 als positiv und alle Werte < 0 als negativ wertet. Die genauere Einschätzung von TextBlob mit einer Spanne von -1 bis 1 (genannt \"Polarität\") ist nur in wenigen Fällen mit dem vorliegenden Datensatz akkurat, jedoch zeigen sich zu diesem Zeitpunkt an bestimmten Stellen Vorteile gegenüber des rein binären SVC:\n",
    "\n",
    "In Reihe 67 von fresh_copy lautet der Kommentar \"Lächerlich\". Auch für binäre Modelle eine eigentlich eindeutig negative Wertung. Das SVC kategorisiert dieses Wort jedoch in \"positiv == 1\". Wie ist das zu erklären? Im Text-Preprocessing wurden einzelne Wörter mithilfe eines Stemmers verkürzt. Das heißt, wiederkehrende Wortendungen wurden abgeschnitten, um die Vergleichbarkeit verschiedener Sätze zu erhöhen. Außerdem wurden die deutschen Umlaute in die ihnen zugrundeliegenden Vokale umgewandelt. Im Endergebnis wird also \"Lächerlich\" zu \"Lach -er -lich\" und schließlich zu \"Lach\". Zwar wird die erste Person Präsens von \"lachen\" häufig in einem ironischen Kontext gebraucht. Genauso würde jedoch \"lachen\" selbst in jedem einzelnen Fall zu \"lach -en\" und zu \"lach\" werden, vermutlich eingesetzt in einem mehrheitlich positiven Kontext. So kommt es in diesem Fall zu einer gravierenden Fehleinschätzung der Support-Vector-Machine.\n",
    "TextBlob hingegen erkennt mit einer Polarität von -1 sicher den negativen Charakter des Ausdrucks.\n",
    "An diesem Beispiel zeigen sich die vielen Fallstricke vermeintlich simpler Klassifizierungsmodelle. Eine Lemmatisierung der einzelnen Wörter eines Satzes führt in solchen Fällen zu besseren Ergebnissen, da die Satzbausteine lediglich in ihre Grundform zurückgeführt werden. \"Ich lache\" würde also in mehreren Schritten zu \"\\[ich\\], \\[lachen\\]\" oder \"Das ist lächerlich\" zu \"\\[das\\], \\[sein\\], \\[lächerlich\\]\". Es zeigt sich allerdings, dass die Lemmatisierung (welche vermutlich von TextBlob eingesetzt wird) in anderen Fällen zu deutlich schlechterer Vergleichbarkeit eigentlich ähnlicher Aussagen führt und die Komplexität des Vokabulars der Klassifizierungsmodelle erhöht."
   ]
  },
  {
   "cell_type": "code",
   "execution_count": null,
   "id": "257eda72",
   "metadata": {},
   "outputs": [],
   "source": []
  }
 ],
 "metadata": {
  "kernelspec": {
   "display_name": "Python 3 (ipykernel)",
   "language": "python",
   "name": "python3"
  },
  "language_info": {
   "codemirror_mode": {
    "name": "ipython",
    "version": 3
   },
   "file_extension": ".py",
   "mimetype": "text/x-python",
   "name": "python",
   "nbconvert_exporter": "python",
   "pygments_lexer": "ipython3",
   "version": "3.8.10"
  }
 },
 "nbformat": 4,
 "nbformat_minor": 5
}
